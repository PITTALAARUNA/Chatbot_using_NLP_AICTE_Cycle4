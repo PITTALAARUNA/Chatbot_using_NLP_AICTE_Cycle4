{
 "cells": [
  {
   "cell_type": "markdown",
   "id": "07f045a8-6d0f-4d25-a6c2-b5edfe18188a",
   "metadata": {},
   "source": [
    "# Implementation of Chatbot Using NLP\n"
   ]
  },
  {
   "cell_type": "code",
   "execution_count": null,
   "id": "2369e37c-6072-4530-842a-feb1f69e7cdd",
   "metadata": {},
   "outputs": [],
   "source": [
    "pip install nltk scikit"
   ]
  }
 ],
 "metadata": {
  "kernelspec": {
   "display_name": "Python 3 (ipykernel)",
   "language": "python",
   "name": "python3"
  },
  "language_info": {
   "codemirror_mode": {
    "name": "ipython",
    "version": 3
   },
   "file_extension": ".py",
   "mimetype": "text/x-python",
   "name": "python",
   "nbconvert_exporter": "python",
   "pygments_lexer": "ipython3",
   "version": "3.12.8"
  }
 },
 "nbformat": 4,
 "nbformat_minor": 5
}
